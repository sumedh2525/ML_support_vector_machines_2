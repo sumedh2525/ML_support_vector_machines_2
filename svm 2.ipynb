{
 "cells": [
  {
   "cell_type": "markdown",
   "id": "80ff0c68-f900-4595-ae94-59d08b7c7565",
   "metadata": {},
   "source": [
    "Q1. What is the relationship between polynomial functions and kernel functions in machine learning\n",
    "algorithms?"
   ]
  },
  {
   "cell_type": "markdown",
   "id": "d51726b9-e3aa-47ec-891a-7f55c5434743",
   "metadata": {},
   "source": [
    "Polynomial Functions:\n",
    "\n",
    "Polynomial functions are a type of mathematical function that involve variables raised to integer powers.\n",
    "In machine learning, polynomial functions are often used to create polynomial features from the original input data. For example, if you have a single input feature 'x', you can create new features like 'x^2', 'x^3', and so on.\n",
    "Polynomial regression is a common example where polynomial functions are used to model the relationship between input features and the target variable. It extends linear regression by allowing the model to capture non-linear relationships.\n",
    "Kernel Functions:\n",
    "\n",
    "Kernel functions are used in various machine learning algorithms, especially in kernel methods like SVMs and kernel ridge regression.\n",
    "Kernel functions calculate the similarity or inner product between data points in a high-dimensional feature space. They allow linear models in this high-dimensional space to capture complex, non-linear relationships in the original data space.\n",
    "Common kernel functions include the polynomial kernel, Gaussian (RBF) kernel, and sigmoid kernel."
   ]
  },
  {
   "cell_type": "code",
   "execution_count": null,
   "id": "0b777fe5-764a-4d55-b0b3-524d466d20e0",
   "metadata": {},
   "outputs": [],
   "source": []
  },
  {
   "cell_type": "code",
   "execution_count": null,
   "id": "18e1384d-78c8-4a7c-8c0c-d17de162d951",
   "metadata": {},
   "outputs": [],
   "source": []
  },
  {
   "cell_type": "markdown",
   "id": "4d43b418-9c96-4af5-8347-c2a5e250a607",
   "metadata": {},
   "source": [
    "Q2. How can we implement an SVM with a polynomial kernel in Python using Scikit-learn?"
   ]
  },
  {
   "cell_type": "code",
   "execution_count": 12,
   "id": "2a9daf39-e244-4ff0-95bb-2807b8d20719",
   "metadata": {},
   "outputs": [
    {
     "name": "stdout",
     "output_type": "stream",
     "text": [
      "Accuracy: 1.0\n"
     ]
    }
   ],
   "source": [
    "from sklearn import datasets\n",
    "from sklearn.model_selection import train_test_split\n",
    "from sklearn.svm import SVC \n",
    "from sklearn.metrics import accuracy_score\n",
    "\n",
    "iris = datasets.load_iris()\n",
    "X = iris.data\n",
    "y = iris.target\n",
    "\n",
    "X_train, X_test, y_train, y_test = train_test_split(X, y, test_size=0.2, random_state=42)\n",
    "\n",
    "svm_classifier = SVC(kernel='poly', degree=3)\n",
    "svm_classifier.fit(X_train,y_train)\n",
    "\n",
    "y_pred = svm_classifier.predict(X_test)\n",
    "\n",
    "accuracy = accuracy_score(y_test,y_pred)\n",
    "print(\"Accuracy:\", accuracy)\n"
   ]
  },
  {
   "cell_type": "code",
   "execution_count": null,
   "id": "4dddb38a-5d24-476d-80bc-5f9a09a2befd",
   "metadata": {},
   "outputs": [],
   "source": []
  },
  {
   "cell_type": "code",
   "execution_count": null,
   "id": "8f2344a7-30c9-4f0f-b47f-ba96e30e51a9",
   "metadata": {},
   "outputs": [],
   "source": []
  },
  {
   "cell_type": "markdown",
   "id": "b0acd1f9-21b5-421a-8e1a-444e5a2c7f5f",
   "metadata": {},
   "source": [
    "Q3. How does increasing the value of epsilon affect the number of support vectors in SVR?"
   ]
  },
  {
   "cell_type": "markdown",
   "id": "9c34e6a4-91a3-48ed-9280-6cb279fa0bed",
   "metadata": {},
   "source": [
    "Larger Epsilon (Wider Tube):\n",
    "\n",
    "Conversely, increasing the value of epsilon makes the tube wider.\n",
    "A wider tube accommodates more data points within the tube while still satisfying the SVR constraints.\n",
    "Therefore, with a larger epsilon, SVR tends to have more support vectors.\n",
    "In summary, epsilon serves as a regularization parameter in SVR. Smaller epsilon values encourage a more strict fit to the training data, potentially resulting in fewer support vectors and a more sensitive model. Larger epsilon values allow for a broader fit, accommodating more data points within the margin, which can lead to more support vectors and a smoother, less sensitive model."
   ]
  },
  {
   "cell_type": "code",
   "execution_count": null,
   "id": "f435af84-2804-4155-8447-99617f8616cb",
   "metadata": {},
   "outputs": [],
   "source": []
  },
  {
   "cell_type": "code",
   "execution_count": null,
   "id": "be59bfb9-d0bd-4124-ab68-f773bc97879d",
   "metadata": {},
   "outputs": [],
   "source": [
    "\n"
   ]
  },
  {
   "cell_type": "markdown",
   "id": "1883a953-a221-462f-a5f8-1af12513fd75",
   "metadata": {},
   "source": [
    "Q5. Assignment:\n",
    "\n",
    "Import the necessary libraries and load the dataseg\n",
    "\n",
    "Split the dataset into training and testing setZ\n",
    "\n",
    "Preprocess the data using any technique of your choice (e.g. scaling, normaliMationK\n",
    "\n",
    "Create an instance of the SVC classifier and train it on the training datW\n",
    "\n",
    "hse the trained classifier to predict the labels of the testing datW\n",
    "\n",
    "Evaluate the performance of the classifier using any metric of your choice (e.g. accuracy,\n",
    "precision, recall, F1-scoreK\n",
    "\n",
    "Tune the hyperparameters of the SVC classifier using GridSearchCV or RandomiMedSearchCV to\n",
    "improve its performanc_\n",
    "\n",
    "Train the tuned classifier on the entire dataseg\n",
    "\n",
    "Save the trained classifier to a file for future use."
   ]
  },
  {
   "cell_type": "code",
   "execution_count": 3,
   "id": "22d32770-e569-4106-9c30-b08f34a2cd68",
   "metadata": {},
   "outputs": [
    {
     "name": "stdout",
     "output_type": "stream",
     "text": [
      "Accuracy: 1.0\n"
     ]
    },
    {
     "data": {
      "image/png": "[encoded data removed]",
      "text/plain": [
       "<Figure size 640x480 with 1 Axes>"
      ]
     },
     "metadata": {},
     "output_type": "display_data"
    }
   ],
   "source": [
    "from sklearn import datasets\n",
    "from sklearn.model_selection import train_test_split\n",
    "from sklearn.metrics import accuracy_score\n",
    "from sklearn.preprocessing import StandardScaler\n",
    "from sklearn.svm import SVC\n",
    "from sklearn.model_selection import GridSearchCV\n",
    "import joblib # for saving the trained model\n",
    "import matplotlib.pyplot as plt\n",
    "\n",
    "iris = datasets.load_iris()\n",
    "X = iris.data\n",
    "y = iris.target\n",
    "\n",
    "X_train, X_test, y_train, y_test = train_test_split(X,y, test_size=0.2, random_state=42)\n",
    "\n",
    "scaler = StandardScaler()\n",
    "X_train_scaled = scaler.fit_transform(X_train)\n",
    "X_test_scaled = scaler.transform(X_test)\n",
    "\n",
    "svc_classifier = SVC()\n",
    "svc_classifier.fit(X_train_scaled, y_train)\n",
    "\n",
    "y_pred = svc_classifier.predict(X_test_scaled)\n",
    "\n",
    "accuracy = accuracy_score(y_test, y_pred)\n",
    "print(\"Accuracy:\", accuracy)\n",
    "\n",
    "plt.scatter(y_test, y_pred)\n",
    "plt.xlabel(\"Actual Values\")\n",
    "plt.ylabel(\"Predicted Values\")\n",
    "plt.title(\"Actual vs. Predicted Values\")\n",
    "plt.show()"
   ]
  },
  {
   "cell_type": "code",
   "execution_count": null,
   "id": "22555e1e-d57d-4f89-8dbb-79b35dc5efbe",
   "metadata": {},
   "outputs": [],
   "source": []
  }
 ],
 "metadata": {
  "kernelspec": {
   "display_name": "Python 3 (ipykernel)",
   "language": "python",
   "name": "python3"
  },
  "language_info": {
   "codemirror_mode": {
    "name": "ipython",
    "version": 3
   },
   "file_extension": ".py",
   "mimetype": "text/x-python",
   "name": "python",
   "nbconvert_exporter": "python",
   "pygments_lexer": "ipython3",
   "version": "3.10.8"
  }
 },
 "nbformat": 4,
 "nbformat_minor": 5
}
